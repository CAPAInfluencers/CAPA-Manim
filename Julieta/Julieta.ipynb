{
 "cells": [
  {
   "cell_type": "code",
   "execution_count": 1,
   "id": "36bfd722-1db0-4090-866c-d1d2ac0c96b2",
   "metadata": {},
   "outputs": [],
   "source": [
    "from manim import *\n",
    "import numpy as np"
   ]
  },
  {
   "cell_type": "code",
   "execution_count": 297,
   "id": "0f66a95e-7f94-4d96-a130-ef7b66e159fa",
   "metadata": {},
   "outputs": [],
   "source": [
    "class JulietaDinamica(Scene):\n",
    "    def tray(self,t):\n",
    "        scale = 3\n",
    "        return np.array([scale*self.b*np.cos(self.w*t),-scale*self.a*np.sin(self.w*t),np.zeros_like(t)])\n",
    "\n",
    "    def construct(self):\n",
    "        self.a = 0.8\n",
    "        self.b = 1/self.a\n",
    "        self.w = np.sqrt(self.a*self.b)\n",
    "\n",
    "        ax = Axes(tips=False, \n",
    "                  x_range=[-1.5,1.5], \n",
    "                  y_range=[-1,1], \n",
    "                  axis_config={\"include_numbers\": False,\n",
    "                               \"unit_size\": 0.25,\n",
    "                               \"include_ticks\": False},\n",
    "                  # x_axis_config={\"\"}\n",
    "                 )\n",
    "        labels = ax.get_axis_labels(Tex(\"R(t)\"), Tex(\"J(t)\"))\n",
    "        self.add(ax,labels)\n",
    "        \n",
    "        trayP = ParametricFunction(self.tray, t_range = (0,10,0.01), fill_opacity=False)\n",
    "        P = Dot(self.tray(0)).scale(1.5).set_color(RED)\n",
    "        trazaP = TracedPath(P.get_center, \n",
    "                            dissipating_time=0.75, \n",
    "                            stroke_opacity=[0,1], \n",
    "                            stroke_color=RED, \n",
    "                            stroke_width=5)\n",
    "        # self.add(trayP)\n",
    "        self.add(P,trazaP)\n",
    "        self.play(MoveAlongPath(P,trayP),run_time=15, rate_func=linear)\n",
    "\n",
    "        ty = np.linspace(-np.pi/self.w/4.,0,1000)\n",
    "        points = list(self.tray(t=ty).transpose()).append([0,0,0])\n",
    "        amor_existe = Polygram(*points, color = ORANGE)\n",
    "        self.add(amor_existe)\n",
    "        self.wait(1)"
   ]
  },
  {
   "cell_type": "code",
   "execution_count": 299,
   "id": "ba9d39ac-426e-4250-943c-80ae48f60d09",
   "metadata": {},
   "outputs": [
    {
     "data": {
      "text/html": [
       "<pre style=\"white-space:pre;overflow-x:auto;line-height:normal;font-family:Menlo,'DejaVu Sans Mono',consolas,'Courier New',monospace\">Manim Community <span style=\"color: #008000; text-decoration-color: #008000\">v0.18.1</span>\n",
       "\n",
       "</pre>\n"
      ],
      "text/plain": [
       "Manim Community \u001b[32mv0.\u001b[0m\u001b[32m18.1\u001b[0m\n",
       "\n"
      ]
     },
     "metadata": {},
     "output_type": "display_data"
    },
    {
     "name": "stderr",
     "output_type": "stream",
     "text": [
      "                                                                                                                       \r"
     ]
    },
    {
     "ename": "TypeError",
     "evalue": "manim.mobject.geometry.polygram.Polygram() argument after * must be an iterable, not NoneType",
     "output_type": "error",
     "traceback": [
      "\u001b[1;31m---------------------------------------------------------------------------\u001b[0m",
      "\u001b[1;31mTypeError\u001b[0m                                 Traceback (most recent call last)",
      "Cell \u001b[1;32mIn[299], line 1\u001b[0m\n\u001b[1;32m----> 1\u001b[0m get_ipython()\u001b[38;5;241m.\u001b[39mrun_line_magic(\u001b[38;5;124m'\u001b[39m\u001b[38;5;124mmanim\u001b[39m\u001b[38;5;124m'\u001b[39m, \u001b[38;5;124m'\u001b[39m\u001b[38;5;124m-ql -v WARNING JulietaDinamica\u001b[39m\u001b[38;5;124m'\u001b[39m)\n",
      "File \u001b[1;32m~\\anaconda3\\Lib\\site-packages\\IPython\\core\\interactiveshell.py:2480\u001b[0m, in \u001b[0;36mInteractiveShell.run_line_magic\u001b[1;34m(self, magic_name, line, _stack_depth)\u001b[0m\n\u001b[0;32m   2478\u001b[0m     kwargs[\u001b[38;5;124m'\u001b[39m\u001b[38;5;124mlocal_ns\u001b[39m\u001b[38;5;124m'\u001b[39m] \u001b[38;5;241m=\u001b[39m \u001b[38;5;28mself\u001b[39m\u001b[38;5;241m.\u001b[39mget_local_scope(stack_depth)\n\u001b[0;32m   2479\u001b[0m \u001b[38;5;28;01mwith\u001b[39;00m \u001b[38;5;28mself\u001b[39m\u001b[38;5;241m.\u001b[39mbuiltin_trap:\n\u001b[1;32m-> 2480\u001b[0m     result \u001b[38;5;241m=\u001b[39m fn(\u001b[38;5;241m*\u001b[39margs, \u001b[38;5;241m*\u001b[39m\u001b[38;5;241m*\u001b[39mkwargs)\n\u001b[0;32m   2482\u001b[0m \u001b[38;5;66;03m# The code below prevents the output from being displayed\u001b[39;00m\n\u001b[0;32m   2483\u001b[0m \u001b[38;5;66;03m# when using magics with decorator @output_can_be_silenced\u001b[39;00m\n\u001b[0;32m   2484\u001b[0m \u001b[38;5;66;03m# when the last Python token in the expression is a ';'.\u001b[39;00m\n\u001b[0;32m   2485\u001b[0m \u001b[38;5;28;01mif\u001b[39;00m \u001b[38;5;28mgetattr\u001b[39m(fn, magic\u001b[38;5;241m.\u001b[39mMAGIC_OUTPUT_CAN_BE_SILENCED, \u001b[38;5;28;01mFalse\u001b[39;00m):\n",
      "File \u001b[1;32m~\\anaconda3\\Lib\\site-packages\\manim\\utils\\ipython_magic.py:143\u001b[0m, in \u001b[0;36mManimMagic.manim\u001b[1;34m(self, line, cell, local_ns)\u001b[0m\n\u001b[0;32m    141\u001b[0m     SceneClass \u001b[38;5;241m=\u001b[39m local_ns[config[\u001b[38;5;124m\"\u001b[39m\u001b[38;5;124mscene_names\u001b[39m\u001b[38;5;124m\"\u001b[39m][\u001b[38;5;241m0\u001b[39m]]\n\u001b[0;32m    142\u001b[0m     scene \u001b[38;5;241m=\u001b[39m SceneClass(renderer\u001b[38;5;241m=\u001b[39mrenderer)\n\u001b[1;32m--> 143\u001b[0m     scene\u001b[38;5;241m.\u001b[39mrender()\n\u001b[0;32m    144\u001b[0m \u001b[38;5;28;01mfinally\u001b[39;00m:\n\u001b[0;32m    145\u001b[0m     \u001b[38;5;66;03m# Shader cache becomes invalid as the context is destroyed\u001b[39;00m\n\u001b[0;32m    146\u001b[0m     shader_program_cache\u001b[38;5;241m.\u001b[39mclear()\n",
      "File \u001b[1;32m~\\anaconda3\\Lib\\site-packages\\manim\\scene\\scene.py:229\u001b[0m, in \u001b[0;36mScene.render\u001b[1;34m(self, preview)\u001b[0m\n\u001b[0;32m    227\u001b[0m \u001b[38;5;28mself\u001b[39m\u001b[38;5;241m.\u001b[39msetup()\n\u001b[0;32m    228\u001b[0m \u001b[38;5;28;01mtry\u001b[39;00m:\n\u001b[1;32m--> 229\u001b[0m     \u001b[38;5;28mself\u001b[39m\u001b[38;5;241m.\u001b[39mconstruct()\n\u001b[0;32m    230\u001b[0m \u001b[38;5;28;01mexcept\u001b[39;00m EndSceneEarlyException:\n\u001b[0;32m    231\u001b[0m     \u001b[38;5;28;01mpass\u001b[39;00m\n",
      "Cell \u001b[1;32mIn[297], line 35\u001b[0m, in \u001b[0;36mJulietaDinamica.construct\u001b[1;34m(self)\u001b[0m\n\u001b[0;32m     33\u001b[0m ty \u001b[38;5;241m=\u001b[39m np\u001b[38;5;241m.\u001b[39mlinspace(\u001b[38;5;241m-\u001b[39mnp\u001b[38;5;241m.\u001b[39mpi\u001b[38;5;241m/\u001b[39m\u001b[38;5;28mself\u001b[39m\u001b[38;5;241m.\u001b[39mw\u001b[38;5;241m/\u001b[39m\u001b[38;5;241m4.\u001b[39m,\u001b[38;5;241m0\u001b[39m,\u001b[38;5;241m1000\u001b[39m)\n\u001b[0;32m     34\u001b[0m points \u001b[38;5;241m=\u001b[39m \u001b[38;5;28mlist\u001b[39m(\u001b[38;5;28mself\u001b[39m\u001b[38;5;241m.\u001b[39mtray(t\u001b[38;5;241m=\u001b[39mty)\u001b[38;5;241m.\u001b[39mtranspose())\u001b[38;5;241m.\u001b[39mappend([\u001b[38;5;241m0\u001b[39m,\u001b[38;5;241m0\u001b[39m,\u001b[38;5;241m0\u001b[39m])\n\u001b[1;32m---> 35\u001b[0m amor_existe \u001b[38;5;241m=\u001b[39m Polygram(\u001b[38;5;241m*\u001b[39mpoints, color \u001b[38;5;241m=\u001b[39m ORANGE)\n\u001b[0;32m     36\u001b[0m \u001b[38;5;28mself\u001b[39m\u001b[38;5;241m.\u001b[39madd(amor_existe)\n\u001b[0;32m     37\u001b[0m \u001b[38;5;28mself\u001b[39m\u001b[38;5;241m.\u001b[39mwait(\u001b[38;5;241m1\u001b[39m)\n",
      "\u001b[1;31mTypeError\u001b[0m: manim.mobject.geometry.polygram.Polygram() argument after * must be an iterable, not NoneType"
     ]
    }
   ],
   "source": [
    "%manim -ql -v WARNING JulietaDinamica"
   ]
  },
  {
   "cell_type": "code",
   "execution_count": null,
   "id": "df96a203-8256-4129-abea-09213a8ffc1f",
   "metadata": {},
   "outputs": [],
   "source": []
  }
 ],
 "metadata": {
  "kernelspec": {
   "display_name": "Python 3 (ipykernel)",
   "language": "python",
   "name": "python3"
  },
  "language_info": {
   "codemirror_mode": {
    "name": "ipython",
    "version": 3
   },
   "file_extension": ".py",
   "mimetype": "text/x-python",
   "name": "python",
   "nbconvert_exporter": "python",
   "pygments_lexer": "ipython3",
   "version": "3.12.3"
  }
 },
 "nbformat": 4,
 "nbformat_minor": 5
}
