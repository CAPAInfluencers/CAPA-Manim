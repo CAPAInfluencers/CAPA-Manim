{
 "cells": [
  {
   "cell_type": "code",
   "execution_count": 1,
   "metadata": {},
   "outputs": [],
   "source": [
    "from manim import *"
   ]
  },
  {
   "cell_type": "code",
   "execution_count": 7,
   "metadata": {},
   "outputs": [
    {
     "data": {
      "text/html": [
       "<pre style=\"white-space:pre;overflow-x:auto;line-height:normal;font-family:Menlo,'DejaVu Sans Mono',consolas,'Courier New',monospace\">Manim Community <span style=\"color: #008000; text-decoration-color: #008000\">v0.18.1</span>\n",
       "\n",
       "</pre>\n"
      ],
      "text/plain": [
       "Manim Community \u001b[32mv0.\u001b[0m\u001b[32m18.1\u001b[0m\n",
       "\n"
      ]
     },
     "metadata": {},
     "output_type": "display_data"
    },
    {
     "name": "stderr",
     "output_type": "stream",
     "text": [
      "                                                                                                                       \r"
     ]
    },
    {
     "data": {
      "text/html": [
       "<video src=\"media\\jupyter\\RyJ@2024-12-15@22-51-25.mp4\" controls autoplay loop style=\"max-width: 60%;\"  >\n",
       "      Your browser does not support the <code>video</code> element.\n",
       "    </video>"
      ],
      "text/plain": [
       "<IPython.core.display.Video object>"
      ]
     },
     "metadata": {},
     "output_type": "display_data"
    }
   ],
   "source": [
    "%%manim -ql -v WARNING RyJ\n",
    "\n",
    "class RyJ(Scene):\n",
    "    def construct(self):\n",
    "        R = MathTex(\"R\",\"(t)\").scale(3)\n",
    "        R.set_color_by_tex('(t)', \"#000000\")\n",
    "        J = MathTex(\"J\",\"(t)\").scale(3)\n",
    "        J.shift(3*RIGHT)\n",
    "        J.set_color_by_tex('(t)', \"#000000\")\n",
    "        self.play(Write(R))\n",
    "        self.play(R.animate.shift(3*LEFT))\n",
    "        self.wait(1)\n",
    "        self.play(Write(J))\n",
    "        self.wait(1)\n",
    "        self.play(FadeToColor(R,WHITE), FadeToColor(J,WHITE))\n",
    "        self.wait()"
   ]
  },
  {
   "cell_type": "code",
   "execution_count": 13,
   "metadata": {},
   "outputs": [
    {
     "data": {
      "text/html": [
       "<pre style=\"white-space:pre;overflow-x:auto;line-height:normal;font-family:Menlo,'DejaVu Sans Mono',consolas,'Courier New',monospace\">Manim Community <span style=\"color: #008000; text-decoration-color: #008000\">v0.18.1</span>\n",
       "\n",
       "</pre>\n"
      ],
      "text/plain": [
       "Manim Community \u001b[32mv0.\u001b[0m\u001b[32m18.1\u001b[0m\n",
       "\n"
      ]
     },
     "metadata": {},
     "output_type": "display_data"
    },
    {
     "name": "stderr",
     "output_type": "stream",
     "text": [
      "                                                                                                                       \r"
     ]
    },
    {
     "data": {
      "text/html": [
       "<video src=\"media\\jupyter\\DynamicEquations@2024-12-15@22-52-28.mp4\" controls autoplay loop style=\"max-width: 60%;\"  >\n",
       "      Your browser does not support the <code>video</code> element.\n",
       "    </video>"
      ],
      "text/plain": [
       "<IPython.core.display.Video object>"
      ]
     },
     "metadata": {},
     "output_type": "display_data"
    }
   ],
   "source": [
    "%%manim -ql -v WARNING DynamicEquations\n",
    "\n",
    "scaleBy = 2\n",
    "class DynamicEquations(Scene):\n",
    "    def construct(self):\n",
    "        ec1 = MathTex(r'\\dot R(t)', '=', r'\\phantom{-}aJ(t)').scale(scaleBy).shift(scaleBy*0.5*UP)\n",
    "        ec2 = MathTex(r'\\dot J(t)', '=', '-bR(t)').shift(scaleBy*0.5*DOWN).scale(scaleBy)\n",
    "        rest1 = MathTex(r'a>0').shift(scaleBy*2*RIGHT,scaleBy*0.5*UP).scale(scaleBy)\n",
    "        rest2 = MathTex(r'b>0').shift(scaleBy*2*RIGHT, scaleBy*0.5*DOWN).scale(scaleBy)\n",
    "        self.play(Write(ec1),Write(ec2))\n",
    "        self.wait(0.5)\n",
    "        self.play(ec1.animate.shift(scaleBy*1.5*LEFT), ec2.animate.shift(scaleBy*1.5*LEFT))\n",
    "        self.wait(0.5)\n",
    "        self.play(FadeIn(rest1), FadeIn(rest2))\n",
    "        self.wait()"
   ]
  },
  {
   "cell_type": "code",
   "execution_count": 14,
   "metadata": {},
   "outputs": [
    {
     "data": {
      "text/html": [
       "<pre style=\"white-space:pre;overflow-x:auto;line-height:normal;font-family:Menlo,'DejaVu Sans Mono',consolas,'Courier New',monospace\">Manim Community <span style=\"color: #008000; text-decoration-color: #008000\">v0.18.1</span>\n",
       "\n",
       "</pre>\n"
      ],
      "text/plain": [
       "Manim Community \u001b[32mv0.\u001b[0m\u001b[32m18.1\u001b[0m\n",
       "\n"
      ]
     },
     "metadata": {},
     "output_type": "display_data"
    },
    {
     "name": "stderr",
     "output_type": "stream",
     "text": [
      "                                                                                                                       \r"
     ]
    },
    {
     "data": {
      "text/html": [
       "<video src=\"media\\jupyter\\HowDoTheyChange@2024-12-15@22-52-33.mp4\" controls autoplay loop style=\"max-width: 60%;\"  >\n",
       "      Your browser does not support the <code>video</code> element.\n",
       "    </video>"
      ],
      "text/plain": [
       "<IPython.core.display.Video object>"
      ]
     },
     "metadata": {},
     "output_type": "display_data"
    }
   ],
   "source": [
    "%%manim -ql -v WARNING HowDoTheyChange\n",
    "\n",
    "scaleBy = 2\n",
    "class HowDoTheyChange(Scene):\n",
    "    def construct(self):\n",
    "        ec1 = MathTex(r'\\dot R(t)', '=', r'\\phantom{-}aJ(t)').scale(scaleBy).shift(scaleBy*0.5*UP).shift(scaleBy*1.5*LEFT)\n",
    "        ec2 = MathTex(r'\\dot J(t)', '=', '-','b', 'R(t)').shift(scaleBy*0.5*DOWN).scale(scaleBy).shift(scaleBy*1.5*LEFT)\n",
    "        rest1 = MathTex(r'a>0').shift(scaleBy*2*RIGHT,scaleBy*0.5*UP).scale(scaleBy)\n",
    "        rest2 = MathTex(r'b>0').shift(scaleBy*2*RIGHT, scaleBy*0.5*DOWN).scale(scaleBy)\n",
    "        self.add(ec1,ec2,rest1,rest2)\n",
    "        fb1 = SurroundingRectangle(ec1[0], buff = 0.25)\n",
    "        fb2 = SurroundingRectangle(ec1[2], buff = 0.25)\n",
    "        self.wait(0.5)\n",
    "        self.play(Create(fb1))\n",
    "        self.wait()\n",
    "        self.play(ReplacementTransform(fb1,fb2))\n",
    "        self.wait()\n",
    "        self.play(Uncreate(fb2))\n",
    "        self.wait(1)\n",
    "        self.play(Indicate(ec2[2]))\n",
    "        self.wait(1)\n",
    "        fb3 = SurroundingRectangle(ec2[4], buff = 0.25)\n",
    "        fb4 = SurroundingRectangle(ec2[2:5], buff = 0.25)\n",
    "        self.play(Create(fb3))\n",
    "        self.wait()\n",
    "        self.play(ReplacementTransform(fb3,fb4))\n",
    "        self.wait()\n",
    "        self.play(Uncreate(fb4))\n",
    "        self.wait()"
   ]
  },
  {
   "cell_type": "code",
   "execution_count": null,
   "metadata": {},
   "outputs": [],
   "source": []
  }
 ],
 "metadata": {
  "kernelspec": {
   "display_name": "Python 3 (ipykernel)",
   "language": "python",
   "name": "python3"
  },
  "language_info": {
   "codemirror_mode": {
    "name": "ipython",
    "version": 3
   },
   "file_extension": ".py",
   "mimetype": "text/x-python",
   "name": "python",
   "nbconvert_exporter": "python",
   "pygments_lexer": "ipython3",
   "version": "3.12.3"
  }
 },
 "nbformat": 4,
 "nbformat_minor": 4
}
