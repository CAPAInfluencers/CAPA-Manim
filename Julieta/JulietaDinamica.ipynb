{
 "cells": [
  {
   "cell_type": "code",
   "execution_count": 1,
   "id": "36bfd722-1db0-4090-866c-d1d2ac0c96b2",
   "metadata": {},
   "outputs": [],
   "source": [
    "from manim import *\n",
    "import numpy as np"
   ]
  },
  {
   "cell_type": "code",
   "execution_count": 5,
   "id": "0f66a95e-7f94-4d96-a130-ef7b66e159fa",
   "metadata": {},
   "outputs": [],
   "source": [
    "class JulietaDinamica(Scene):\n",
    "    def tray(self,t):\n",
    "        scale = 3\n",
    "        return np.array([scale*self.b*np.cos(self.w*t),-scale*self.a*np.sin(self.w*t),np.zeros_like(t)])\n",
    "\n",
    "    def construct(self):\n",
    "        self.a = 0.8\n",
    "        self.b = 1/self.a\n",
    "        self.w = np.sqrt(self.a*self.b)\n",
    "\n",
    "        ax = Axes(tips=False, \n",
    "                  x_range=[-1.5,1.5], \n",
    "                  y_range=[-1,1], \n",
    "                  axis_config={\"include_numbers\": False,\n",
    "                               \"unit_size\": 0.25,\n",
    "                               \"include_ticks\": False},\n",
    "                  # x_axis_config={\"\"}\n",
    "                 )\n",
    "        labels = ax.get_axis_labels(Tex(\"R(t)\"), Tex(\"J(t)\"))\n",
    "        self.add(ax,labels)\n",
    "        \n",
    "        trayP = ParametricFunction(self.tray, t_range = (0,10,0.01), fill_opacity=False)\n",
    "        P = Dot(self.tray(0)).scale(1.5).set_color(RED)\n",
    "        trazaP = TracedPath(P.get_center, \n",
    "                            dissipating_time=0.75, \n",
    "                            stroke_opacity=[0,1], \n",
    "                            stroke_color=RED, \n",
    "                            stroke_width=5)\n",
    "        # self.add(trayP)\n",
    "        self.add(P,trazaP)\n",
    "        self.play(MoveAlongPath(P,trayP),run_time=15, rate_func=linear)\n",
    "\n",
    "        ty = np.linspace(-np.pi/self.w/4.,0,1000)\n",
    "        points = list(self.tray(t=ty).transpose()).append([0,0,0])\n",
    "        # amor_existe = Polygram(*points, color = ORANGE)\n",
    "        # self.add(amor_existe)\n",
    "        self.wait(1)"
   ]
  },
  {
   "cell_type": "code",
   "execution_count": 7,
   "id": "ba9d39ac-426e-4250-943c-80ae48f60d09",
   "metadata": {},
   "outputs": [
    {
     "data": {
      "text/html": [
       "<pre style=\"white-space:pre;overflow-x:auto;line-height:normal;font-family:Menlo,'DejaVu Sans Mono',consolas,'Courier New',monospace\">Manim Community <span style=\"color: #008000; text-decoration-color: #008000\">v0.18.1</span>\n",
       "\n",
       "</pre>\n"
      ],
      "text/plain": [
       "Manim Community \u001b[32mv0.\u001b[0m\u001b[32m18.1\u001b[0m\n",
       "\n"
      ]
     },
     "metadata": {},
     "output_type": "display_data"
    },
    {
     "name": "stderr",
     "output_type": "stream",
     "text": [
      "                                                                                                                       \r"
     ]
    },
    {
     "data": {
      "text/html": [
       "<video src=\"media\\jupyter\\JulietaDinamica@2024-12-13@19-26-07.mp4\" controls autoplay loop style=\"max-width: 60%;\"  >\n",
       "      Your browser does not support the <code>video</code> element.\n",
       "    </video>"
      ],
      "text/plain": [
       "<IPython.core.display.Video object>"
      ]
     },
     "metadata": {},
     "output_type": "display_data"
    }
   ],
   "source": [
    "%manim -ql -v WARNING JulietaDinamica"
   ]
  },
  {
   "cell_type": "code",
   "execution_count": null,
   "id": "df96a203-8256-4129-abea-09213a8ffc1f",
   "metadata": {},
   "outputs": [],
   "source": []
  }
 ],
 "metadata": {
  "kernelspec": {
   "display_name": "Python 3 (ipykernel)",
   "language": "python",
   "name": "python3"
  },
  "language_info": {
   "codemirror_mode": {
    "name": "ipython",
    "version": 3
   },
   "file_extension": ".py",
   "mimetype": "text/x-python",
   "name": "python",
   "nbconvert_exporter": "python",
   "pygments_lexer": "ipython3",
   "version": "3.12.3"
  }
 },
 "nbformat": 4,
 "nbformat_minor": 5
}
