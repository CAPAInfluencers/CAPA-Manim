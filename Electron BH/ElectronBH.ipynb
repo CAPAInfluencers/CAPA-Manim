{
 "cells": [
  {
   "cell_type": "code",
   "execution_count": 7,
   "id": "e17761f6-1e30-4a8d-ba40-9229a18804f7",
   "metadata": {},
   "outputs": [],
   "source": [
    "import numpy as np\n",
    "from manim import *"
   ]
  },
  {
   "cell_type": "code",
   "execution_count": 72,
   "id": "4818dbaf-352e-496d-a287-f727061f9316",
   "metadata": {},
   "outputs": [],
   "source": [
    "class ElectronBH(Scene):\n",
    "    def construct(self):\n",
    "        circ = Circle(radius=3, color=YELLOW, fill_opacity=0)\n",
    "        center = circ.point_at_angle(PI/4)\n",
    "        radius = Arrow(start=ORIGIN,end=center, buff=0, color=YELLOW).set_z_index(2)\n",
    "        texto = MathTex(r'10^{-27}m', color=YELLOW, font_size=60).move_to(radius.get_center()+1.5*LEFT)\n",
    "        self.play(GrowFromCenter(circ),\n",
    "                  GrowArrow(radius)\n",
    "                 )\n",
    "        self.wait(1)\n",
    "        self.play(Write(texto))\n",
    "        self.wait(1)"
   ]
  },
  {
   "cell_type": "code",
   "execution_count": 74,
   "id": "520bd2fb-3355-40dd-aaf7-b3fe17d329af",
   "metadata": {},
   "outputs": [
    {
     "data": {
      "text/html": [
       "<pre style=\"white-space:pre;overflow-x:auto;line-height:normal;font-family:Menlo,'DejaVu Sans Mono',consolas,'Courier New',monospace\">Manim Community <span style=\"color: #008000; text-decoration-color: #008000\">v0.18.1</span>\n",
       "\n",
       "</pre>\n"
      ],
      "text/plain": [
       "Manim Community \u001b[32mv0.\u001b[0m\u001b[32m18.1\u001b[0m\n",
       "\n"
      ]
     },
     "metadata": {},
     "output_type": "display_data"
    },
    {
     "name": "stderr",
     "output_type": "stream",
     "text": [
      "                                                                                                                       \r"
     ]
    },
    {
     "data": {
      "text/html": [
       "<video src=\"media\\jupyter\\ElectronBH@2025-03-08@19-50-21.mp4\" controls autoplay loop style=\"max-width: 60%;\"  >\n",
       "      Your browser does not support the <code>video</code> element.\n",
       "    </video>"
      ],
      "text/plain": [
       "<IPython.core.display.Video object>"
      ]
     },
     "metadata": {},
     "output_type": "display_data"
    }
   ],
   "source": [
    "%manim -qh -v WARNING ElectronBH"
   ]
  },
  {
   "cell_type": "code",
   "execution_count": null,
   "id": "c5541ae7-79d5-41b7-808a-c4dbf9e07b1e",
   "metadata": {},
   "outputs": [],
   "source": []
  }
 ],
 "metadata": {
  "kernelspec": {
   "display_name": "Python 3 (ipykernel)",
   "language": "python",
   "name": "python3"
  },
  "language_info": {
   "codemirror_mode": {
    "name": "ipython",
    "version": 3
   },
   "file_extension": ".py",
   "mimetype": "text/x-python",
   "name": "python",
   "nbconvert_exporter": "python",
   "pygments_lexer": "ipython3",
   "version": "3.12.3"
  }
 },
 "nbformat": 4,
 "nbformat_minor": 5
}
