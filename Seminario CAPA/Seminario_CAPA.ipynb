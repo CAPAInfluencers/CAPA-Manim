{
 "cells": [
  {
   "cell_type": "code",
   "execution_count": 4,
   "id": "a6584373-dcbd-46e5-91bb-389760f2e911",
   "metadata": {},
   "outputs": [],
   "source": [
    "import numpy as np\n",
    "from manim import *"
   ]
  },
  {
   "cell_type": "code",
   "execution_count": 127,
   "id": "80f20eeb-001d-4ecf-a14c-8f5eafef6178",
   "metadata": {},
   "outputs": [],
   "source": [
    "class Seminario(Scene):\n",
    "    def construct(self):\n",
    "        self.camera.background_color = \"#feefdd\"\n",
    "        lagrangiano = MathTex(r'\\mathcal{L}','=',r'(\\partial_\\mu\\phi^\\ast)',r'({{\\partial^\\mu\\phi}})','-m^2',r'\\phi^\\ast',r'\\phi',color='#2e282a')\n",
    "        # accion = MathTex(r'\\mathcal{S}','=',r'\\int\\,d^4x',r'(\\partial_\\mu\\phi^\\ast)(\\partial^\\mu\\phi)-m^2\\phi^\\ast \\phi')\n",
    "        titulo = Title('Campo escalar complejo',include_underline=False,color='#2e282a',font_size=66)\n",
    "        self.add(titulo)\n",
    "        self.play(Write(lagrangiano))\n",
    "        self.wait(0.5)\n",
    "        self.play(lagrangiano.animate.shift(2*UP))\n",
    "        self.wait(0.5)\n",
    "\n",
    "        EulerLagrange = MathTex(r'\\partial_\\mu',r'\\left(',r'\\frac{\\partial\\mathcal{L}}{\\partial(\\partial_\\mu\\phi^\\ast)}',r'\\right)','-',\n",
    "                      r'\\left(',r'\\frac{\\partial\\mathcal{L}}{\\partial\\phi^\\ast}',r'\\right)','=0',color='#2e282a')\n",
    "        # EoM1 = MathTex(r'(\\square+m^2)\\phi^\\ast=0',color='#2e282a')\n",
    "        EoM2 = MathTex(r'( {{\\square}} {{+}} {{m^2}} ) {{\\phi}}=0',color='#2e282a')\n",
    "        # EoM = VGroup(MathTex(r'(\\square+m^2)\\phi^\\ast=0'),MathTex(r'(\\square+m^2)\\phi\\phantom{^\\ast}=0')).arrange(DOWN).next_to(EulerLagrange,RIGHT)\n",
    "        # grupo = VGroup(Tex('Simetría U(1)').shift(2*LEFT),MathTex(r'\\phi',r'\\mapsto',r'e^{i\\alpha}\\phi'),\n",
    "        #                MathTex(r'\\phi^\\ast',r'\\mapsto',r'e^{-i\\alpha}\\phi^\\ast'),\n",
    "        #                MathTex(r'\\mathcal{L}',r'\\mapsto',r'\\mathcal{L}')).arrange(DOWN).scale(0.8).shift(1*DOWN)\n",
    "\n",
    "        # self.play(Write(EoM))\n",
    "        self.play(Write(Tex('Ecuaciones del movimiento:',color='#2e282a').shift(3*LEFT).shift(1*UP)))\n",
    "        self.play(Write(EulerLagrange.shift(0.5*DOWN+0*LEFT)))\n",
    "        self.wait(0.5)\n",
    "\n",
    "        # campo1 = MathTex(r'\\phi_i',r'=',r'{{\\phi}}\\phantom{^\\ast}: ').shift(2*DOWN).shift(5*LEFT)\n",
    "        campo2 = MathTex(r'\\phi_i',r'=',r'{{\\phi^\\ast}}: ',color='#2e282a').shift(0.5*DOWN).shift(5*LEFT)\n",
    "\n",
    "        # self.play(Write(campo2))\n",
    "        lag1 = MathTex(r'\\partial_\\mu',r'\\left(',r'\\phantom{\\frac{\\partial\\mathcal{L}}{\\partial(\\partial_\\mu\\phi^\\ast)}}',r'\\right)','-',\n",
    "                      r'\\left(',r'\\phantom{\\frac{\\partial\\mathcal{L}}{\\partial\\phi^\\ast}}',r'\\right)','=0',color='#2e282a').move_to(EulerLagrange)\n",
    "        derivatives = Group(lagrangiano[4].copy(),lagrangiano[6].copy(),lagrangiano[8].copy())\n",
    "        lag2 = MathTex(r'\\partial_\\mu', r'\\left(',r'{ {{\\partial^\\mu\\phi}} }',r'\\right)' , '-', r'\\left(',r'{ {{-m^2}} {{\\phi}} }',r'\\right)','=0',color='#2e282a').move_to(lag1)\n",
    "        lag2_ph = MathTex(r'\\partial_\\mu', r'\\left(',r'\\phantom{ {{\\partial^\\mu\\phi}} }', r'\\right)' , '-', r'\\left(',r'\\phantom{ {{-m^2}} {{\\phi}} }',r'\\right)','=0',\n",
    "                          color='#2e282a').move_to(lag2)\n",
    "        idx = [2,7,8]\n",
    "        self.play(FadeTransform(EulerLagrange,lag1),run_time=0.5)\n",
    "        self.play(TransformMatchingShapes(lag1,lag2_ph))\n",
    "        \n",
    "        # self.play(*[derivatives[i].animate.move_to(lag2_ph[idx[i]]) for i in range(3)],run_time=0.5)\n",
    "        self.play(TransformMatchingShapes(Group(lag2_ph,derivatives),lag2))\n",
    "        self.wait(0.5)\n",
    "        \n",
    "        EoM2 = MathTex(r'(\\square + m^2 ) \\phi =0',color='#2e282a').move_to(lag2)\n",
    "        self.play(FadeTransform(lag2,EoM2))\n",
    "        self.wait(0.5)\n",
    "\n",
    "        self.play(EoM2.animate.shift(0.5*DOWN).scale(1.5))\n",
    "        \n",
    "        self.wait(0.5)\n",
    "        self.play(Indicate(EoM2,color='#bc2c1a'),run_time=1.5)\n",
    "        \n",
    "        self.wait(0.5)\n",
    "        self.play(FadeOut(*self.get_mobject_family_members()),run_time=2)\n",
    "        self.wait(1)"
   ]
  },
  {
   "cell_type": "code",
   "execution_count": 129,
   "id": "bd817ab3-d7f7-4348-a431-45ce8b12a223",
   "metadata": {},
   "outputs": [
    {
     "data": {
      "text/html": [
       "<pre style=\"white-space:pre;overflow-x:auto;line-height:normal;font-family:Menlo,'DejaVu Sans Mono',consolas,'Courier New',monospace\">Manim Community <span style=\"color: #008000; text-decoration-color: #008000\">v0.18.1</span>\n",
       "\n",
       "</pre>\n"
      ],
      "text/plain": [
       "Manim Community \u001b[32mv0.\u001b[0m\u001b[32m18.1\u001b[0m\n",
       "\n"
      ]
     },
     "metadata": {},
     "output_type": "display_data"
    },
    {
     "name": "stderr",
     "output_type": "stream",
     "text": [
      "                                                                                                                       \r"
     ]
    },
    {
     "data": {
      "text/html": [
       "<video src=\"media\\jupyter\\Seminario@2025-02-19@00-00-50.mp4\" controls autoplay loop style=\"max-width: 60%;\"  >\n",
       "      Your browser does not support the <code>video</code> element.\n",
       "    </video>"
      ],
      "text/plain": [
       "<IPython.core.display.Video object>"
      ]
     },
     "metadata": {},
     "output_type": "display_data"
    }
   ],
   "source": [
    "%manim -ql -v WARNING Seminario"
   ]
  },
  {
   "cell_type": "code",
   "execution_count": 131,
   "id": "5706d8c6-c7bf-4f08-b428-2e4ed7964db9",
   "metadata": {},
   "outputs": [
    {
     "data": {
      "text/html": [
       "<pre style=\"white-space:pre;overflow-x:auto;line-height:normal;font-family:Menlo,'DejaVu Sans Mono',consolas,'Courier New',monospace\">Manim Community <span style=\"color: #008000; text-decoration-color: #008000\">v0.18.1</span>\n",
       "\n",
       "</pre>\n"
      ],
      "text/plain": [
       "Manim Community \u001b[32mv0.\u001b[0m\u001b[32m18.1\u001b[0m\n",
       "\n"
      ]
     },
     "metadata": {},
     "output_type": "display_data"
    },
    {
     "name": "stderr",
     "output_type": "stream",
     "text": [
      "                                                                                                                       \r"
     ]
    },
    {
     "data": {
      "text/html": [
       "<video src=\"media\\jupyter\\Seminario@2025-02-19@00-01-27.mp4\" controls autoplay loop style=\"max-width: 60%;\"  >\n",
       "      Your browser does not support the <code>video</code> element.\n",
       "    </video>"
      ],
      "text/plain": [
       "<IPython.core.display.Video object>"
      ]
     },
     "metadata": {},
     "output_type": "display_data"
    }
   ],
   "source": [
    "%manim -qh -v WARNING Seminario"
   ]
  },
  {
   "cell_type": "code",
   "execution_count": 122,
   "id": "e75aed73-df55-41c6-abc4-dd678c6f8d1f",
   "metadata": {},
   "outputs": [],
   "source": [
    "class test(Scene):\n",
    "    def construct(self):\n",
    "        lagrangiano = MathTex(r'\\mathcal{L}','=',r'(\\partial_\\mu\\phi^\\ast)',r'(\\partial^\\mu\\phi)','-m^2',r'\\phi^\\ast',r'\\phi').shift(2*UP)\n",
    "        self.add(lagrangiano)\n",
    "        EulerLagrange = MathTex(r'\\partial_\\mu',r'\\left( {\\partial\\mathcal{L}}\\over{\\partial(\\partial_\\mu\\phi_i)}\\right)','-',\n",
    "                      r'{ {\\partial\\mathcal{L}}\\over{\\partial\\phi_i} }','=0')\n",
    "        lag1 = MathTex(r'\\partial_\\mu',r'\\left({\\partial\\mathcal{L}}\\over{\\partial {{(\\partial_\\mu\\phi^\\ast)}} }\\right)','-',\n",
    "                      r'{ {\\partial\\mathcal{L}}\\over{\\partial {{\\phi^\\ast}} } }','=0')\n",
    "        \n",
    "        lag2 = MathTex(r'\\partial_\\mu', r'(\\partial^\\mu\\phi)' , '-', r'({{-m^2}} {{\\phi}})','=0')\n",
    "        self.add(EulerLagrange)\n",
    "        self.wait(1)\n",
    "        self.play(TransformMatchingTex(EulerLagrange,lag1))\n",
    "        self.wait(1)\n",
    "        self.play(FadeOut(lag1[1:4],lag1[5:8]))\n",
    "        lag1_ph = MathTex(r'\\partial_\\mu',r'\\phantom{\\left({\\partial\\mathcal{L}}\\over{\\partial {{(\\partial_\\mu\\phi^\\ast)}} }\\right)}','-',\n",
    "                      r'\\phantom{ {\\partial\\mathcal{L}}\\over{\\partial {{\\phi^\\ast}} } }','=0')\n",
    "        self.remove(lag1)\n",
    "        self.remove(EulerLagrange)\n",
    "        self.remove(lag1_ph)\n",
    "        self.play(TransformMatchingShapes(Group(lag1_ph.copy(),\n",
    "                                               lagrangiano[3].copy(),lagrangiano[4].copy(),lagrangiano[6].copy()),\n",
    "                                       lag2))\n",
    "        self.wait(2)"
   ]
  },
  {
   "cell_type": "code",
   "execution_count": 123,
   "id": "90fde805-5549-4a85-8381-cdabd66fd44c",
   "metadata": {},
   "outputs": [
    {
     "data": {
      "text/html": [
       "<pre style=\"white-space:pre;overflow-x:auto;line-height:normal;font-family:Menlo,'DejaVu Sans Mono',consolas,'Courier New',monospace\">Manim Community <span style=\"color: #008000; text-decoration-color: #008000\">v0.18.1</span>\n",
       "\n",
       "</pre>\n"
      ],
      "text/plain": [
       "Manim Community \u001b[32mv0.\u001b[0m\u001b[32m18.1\u001b[0m\n",
       "\n"
      ]
     },
     "metadata": {},
     "output_type": "display_data"
    },
    {
     "name": "stderr",
     "output_type": "stream",
     "text": [
      "                                                                                                                       \r"
     ]
    },
    {
     "data": {
      "text/html": [
       "<video src=\"media\\jupyter\\test@2025-02-19@00-00-27.mp4\" controls autoplay loop style=\"max-width: 60%;\"  >\n",
       "      Your browser does not support the <code>video</code> element.\n",
       "    </video>"
      ],
      "text/plain": [
       "<IPython.core.display.Video object>"
      ]
     },
     "metadata": {},
     "output_type": "display_data"
    }
   ],
   "source": [
    "%manim -ql -v WARNING test"
   ]
  },
  {
   "cell_type": "code",
   "execution_count": null,
   "id": "63f7f03e-7fa3-42ea-b2f1-968b07f93c28",
   "metadata": {},
   "outputs": [],
   "source": []
  }
 ],
 "metadata": {
  "kernelspec": {
   "display_name": "Python 3 (ipykernel)",
   "language": "python",
   "name": "python3"
  },
  "language_info": {
   "codemirror_mode": {
    "name": "ipython",
    "version": 3
   },
   "file_extension": ".py",
   "mimetype": "text/x-python",
   "name": "python",
   "nbconvert_exporter": "python",
   "pygments_lexer": "ipython3",
   "version": "3.12.3"
  }
 },
 "nbformat": 4,
 "nbformat_minor": 5
}
