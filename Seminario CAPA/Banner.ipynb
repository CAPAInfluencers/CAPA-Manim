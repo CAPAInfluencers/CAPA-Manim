{
 "cells": [
  {
   "cell_type": "code",
   "execution_count": 1,
   "id": "69af7260-5ecc-437d-96fd-33bda88bcfc8",
   "metadata": {},
   "outputs": [],
   "source": [
    "import numpy as np\n",
    "from manim import *"
   ]
  },
  {
   "cell_type": "code",
   "execution_count": 11,
   "id": "51ec8903-ade5-4f81-967c-609a1583f83f",
   "metadata": {},
   "outputs": [],
   "source": [
    "class Banner(Scene):\n",
    "    def construct(self):\n",
    "        self.camera.background_color = \"#feefdd\"\n",
    "        banner = ManimBanner(dark_theme=False)\n",
    "        self.play(banner.create())\n",
    "        self.play(banner.expand())\n",
    "        self.wait()\n",
    "        # self.play(Unwrite(banner))"
   ]
  },
  {
   "cell_type": "code",
   "execution_count": 13,
   "id": "d70d8990-4f38-4a0d-83f4-089f20901b38",
   "metadata": {},
   "outputs": [
    {
     "data": {
      "text/html": [
       "<pre style=\"white-space:pre;overflow-x:auto;line-height:normal;font-family:Menlo,'DejaVu Sans Mono',consolas,'Courier New',monospace\">Manim Community <span style=\"color: #008000; text-decoration-color: #008000\">v0.18.1</span>\n",
       "\n",
       "</pre>\n"
      ],
      "text/plain": [
       "Manim Community \u001b[32mv0.\u001b[0m\u001b[32m18.1\u001b[0m\n",
       "\n"
      ]
     },
     "metadata": {},
     "output_type": "display_data"
    },
    {
     "name": "stderr",
     "output_type": "stream",
     "text": [
      "                                                                                                                       \r"
     ]
    },
    {
     "data": {
      "text/html": [
       "<video src=\"media\\jupyter\\Banner@2025-02-18@22-32-03.mp4\" controls autoplay loop style=\"max-width: 60%;\"  >\n",
       "      Your browser does not support the <code>video</code> element.\n",
       "    </video>"
      ],
      "text/plain": [
       "<IPython.core.display.Video object>"
      ]
     },
     "metadata": {},
     "output_type": "display_data"
    }
   ],
   "source": [
    "%manim -qh -v WARNING Banner"
   ]
  },
  {
   "cell_type": "code",
   "execution_count": null,
   "id": "35a181b4-9ca2-41cb-bbd8-f53c12549747",
   "metadata": {},
   "outputs": [],
   "source": []
  }
 ],
 "metadata": {
  "kernelspec": {
   "display_name": "Python 3 (ipykernel)",
   "language": "python",
   "name": "python3"
  },
  "language_info": {
   "codemirror_mode": {
    "name": "ipython",
    "version": 3
   },
   "file_extension": ".py",
   "mimetype": "text/x-python",
   "name": "python",
   "nbconvert_exporter": "python",
   "pygments_lexer": "ipython3",
   "version": "3.12.3"
  }
 },
 "nbformat": 4,
 "nbformat_minor": 5
}
